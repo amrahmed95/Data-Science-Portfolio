{
 "cells": [
  {
   "cell_type": "markdown",
   "metadata": {},
   "source": [
    "# Cleaning Data Science Salaries Dataset - Glassdoor Jobs Dataset (https://www.kaggle.com/grouplens/glassdoor-jobs) "
   ]
  },
  {
   "cell_type": "markdown",
   "metadata": {},
   "source": [
    "## Imporing Libraries"
   ]
  },
  {
   "cell_type": "code",
   "execution_count": 322,
   "metadata": {},
   "outputs": [],
   "source": [
    "import pandas as pd\n",
    "import numpy as np\n",
    "import matplotlib.pyplot as plt\n",
    "import seaborn as sns\n",
    "%matplotlib inline\n",
    "sns.set()"
   ]
  },
  {
   "cell_type": "markdown",
   "metadata": {},
   "source": [
    "## Importing Dataset"
   ]
  },
  {
   "cell_type": "code",
   "execution_count": 323,
   "metadata": {},
   "outputs": [
    {
     "data": {
      "text/html": [
       "<div>\n",
       "<style scoped>\n",
       "    .dataframe tbody tr th:only-of-type {\n",
       "        vertical-align: middle;\n",
       "    }\n",
       "\n",
       "    .dataframe tbody tr th {\n",
       "        vertical-align: top;\n",
       "    }\n",
       "\n",
       "    .dataframe thead th {\n",
       "        text-align: right;\n",
       "    }\n",
       "</style>\n",
       "<table border=\"1\" class=\"dataframe\">\n",
       "  <thead>\n",
       "    <tr style=\"text-align: right;\">\n",
       "      <th></th>\n",
       "      <th>Unnamed: 0</th>\n",
       "      <th>Job Title</th>\n",
       "      <th>Salary Estimate</th>\n",
       "      <th>Job Description</th>\n",
       "      <th>Rating</th>\n",
       "      <th>Company Name</th>\n",
       "      <th>Location</th>\n",
       "      <th>Headquarters</th>\n",
       "      <th>Size</th>\n",
       "      <th>Founded</th>\n",
       "      <th>Type of ownership</th>\n",
       "      <th>Industry</th>\n",
       "      <th>Sector</th>\n",
       "      <th>Revenue</th>\n",
       "      <th>Competitors</th>\n",
       "    </tr>\n",
       "  </thead>\n",
       "  <tbody>\n",
       "    <tr>\n",
       "      <th>0</th>\n",
       "      <td>0</td>\n",
       "      <td>Data Scientist</td>\n",
       "      <td>$53K-$91K (Glassdoor est.)</td>\n",
       "      <td>Data Scientist\\nLocation: Albuquerque, NM\\nEdu...</td>\n",
       "      <td>3.8</td>\n",
       "      <td>Tecolote Research\\n3.8</td>\n",
       "      <td>Albuquerque, NM</td>\n",
       "      <td>Goleta, CA</td>\n",
       "      <td>501 to 1000 employees</td>\n",
       "      <td>1973</td>\n",
       "      <td>Company - Private</td>\n",
       "      <td>Aerospace &amp; Defense</td>\n",
       "      <td>Aerospace &amp; Defense</td>\n",
       "      <td>$50 to $100 million (USD)</td>\n",
       "      <td>-1</td>\n",
       "    </tr>\n",
       "    <tr>\n",
       "      <th>1</th>\n",
       "      <td>1</td>\n",
       "      <td>Healthcare Data Scientist</td>\n",
       "      <td>$63K-$112K (Glassdoor est.)</td>\n",
       "      <td>What You Will Do:\\n\\nI. General Summary\\n\\nThe...</td>\n",
       "      <td>3.4</td>\n",
       "      <td>University of Maryland Medical System\\n3.4</td>\n",
       "      <td>Linthicum, MD</td>\n",
       "      <td>Baltimore, MD</td>\n",
       "      <td>10000+ employees</td>\n",
       "      <td>1984</td>\n",
       "      <td>Other Organization</td>\n",
       "      <td>Health Care Services &amp; Hospitals</td>\n",
       "      <td>Health Care</td>\n",
       "      <td>$2 to $5 billion (USD)</td>\n",
       "      <td>-1</td>\n",
       "    </tr>\n",
       "    <tr>\n",
       "      <th>2</th>\n",
       "      <td>2</td>\n",
       "      <td>Data Scientist</td>\n",
       "      <td>$80K-$90K (Glassdoor est.)</td>\n",
       "      <td>KnowBe4, Inc. is a high growth information sec...</td>\n",
       "      <td>4.8</td>\n",
       "      <td>KnowBe4\\n4.8</td>\n",
       "      <td>Clearwater, FL</td>\n",
       "      <td>Clearwater, FL</td>\n",
       "      <td>501 to 1000 employees</td>\n",
       "      <td>2010</td>\n",
       "      <td>Company - Private</td>\n",
       "      <td>Security Services</td>\n",
       "      <td>Business Services</td>\n",
       "      <td>$100 to $500 million (USD)</td>\n",
       "      <td>-1</td>\n",
       "    </tr>\n",
       "    <tr>\n",
       "      <th>3</th>\n",
       "      <td>3</td>\n",
       "      <td>Data Scientist</td>\n",
       "      <td>$56K-$97K (Glassdoor est.)</td>\n",
       "      <td>*Organization and Job ID**\\nJob ID: 310709\\n\\n...</td>\n",
       "      <td>3.8</td>\n",
       "      <td>PNNL\\n3.8</td>\n",
       "      <td>Richland, WA</td>\n",
       "      <td>Richland, WA</td>\n",
       "      <td>1001 to 5000 employees</td>\n",
       "      <td>1965</td>\n",
       "      <td>Government</td>\n",
       "      <td>Energy</td>\n",
       "      <td>Oil, Gas, Energy &amp; Utilities</td>\n",
       "      <td>$500 million to $1 billion (USD)</td>\n",
       "      <td>Oak Ridge National Laboratory, National Renewa...</td>\n",
       "    </tr>\n",
       "    <tr>\n",
       "      <th>4</th>\n",
       "      <td>4</td>\n",
       "      <td>Data Scientist</td>\n",
       "      <td>$86K-$143K (Glassdoor est.)</td>\n",
       "      <td>Data Scientist\\nAffinity Solutions / Marketing...</td>\n",
       "      <td>2.9</td>\n",
       "      <td>Affinity Solutions\\n2.9</td>\n",
       "      <td>New York, NY</td>\n",
       "      <td>New York, NY</td>\n",
       "      <td>51 to 200 employees</td>\n",
       "      <td>1998</td>\n",
       "      <td>Company - Private</td>\n",
       "      <td>Advertising &amp; Marketing</td>\n",
       "      <td>Business Services</td>\n",
       "      <td>Unknown / Non-Applicable</td>\n",
       "      <td>Commerce Signals, Cardlytics, Yodlee</td>\n",
       "    </tr>\n",
       "    <tr>\n",
       "      <th>...</th>\n",
       "      <td>...</td>\n",
       "      <td>...</td>\n",
       "      <td>...</td>\n",
       "      <td>...</td>\n",
       "      <td>...</td>\n",
       "      <td>...</td>\n",
       "      <td>...</td>\n",
       "      <td>...</td>\n",
       "      <td>...</td>\n",
       "      <td>...</td>\n",
       "      <td>...</td>\n",
       "      <td>...</td>\n",
       "      <td>...</td>\n",
       "      <td>...</td>\n",
       "      <td>...</td>\n",
       "    </tr>\n",
       "    <tr>\n",
       "      <th>951</th>\n",
       "      <td>951</td>\n",
       "      <td>Senior Data Engineer</td>\n",
       "      <td>$72K-$133K (Glassdoor est.)</td>\n",
       "      <td>THE CHALLENGE\\nEventbrite has a world-class da...</td>\n",
       "      <td>4.4</td>\n",
       "      <td>Eventbrite\\n4.4</td>\n",
       "      <td>Nashville, TN</td>\n",
       "      <td>San Francisco, CA</td>\n",
       "      <td>1001 to 5000 employees</td>\n",
       "      <td>2006</td>\n",
       "      <td>Company - Public</td>\n",
       "      <td>Internet</td>\n",
       "      <td>Information Technology</td>\n",
       "      <td>$100 to $500 million (USD)</td>\n",
       "      <td>See Tickets, TicketWeb, Vendini</td>\n",
       "    </tr>\n",
       "    <tr>\n",
       "      <th>952</th>\n",
       "      <td>952</td>\n",
       "      <td>Project Scientist - Auton Lab, Robotics Institute</td>\n",
       "      <td>$56K-$91K (Glassdoor est.)</td>\n",
       "      <td>The Auton Lab at Carnegie Mellon University is...</td>\n",
       "      <td>2.6</td>\n",
       "      <td>Software Engineering Institute\\n2.6</td>\n",
       "      <td>Pittsburgh, PA</td>\n",
       "      <td>Pittsburgh, PA</td>\n",
       "      <td>501 to 1000 employees</td>\n",
       "      <td>1984</td>\n",
       "      <td>College / University</td>\n",
       "      <td>Colleges &amp; Universities</td>\n",
       "      <td>Education</td>\n",
       "      <td>Unknown / Non-Applicable</td>\n",
       "      <td>-1</td>\n",
       "    </tr>\n",
       "    <tr>\n",
       "      <th>953</th>\n",
       "      <td>953</td>\n",
       "      <td>Data Science Manager</td>\n",
       "      <td>$95K-$160K (Glassdoor est.)</td>\n",
       "      <td>Data Science ManagerResponsibilities:\\n\\nOvers...</td>\n",
       "      <td>3.2</td>\n",
       "      <td>Numeric, LLC\\n3.2</td>\n",
       "      <td>Allentown, PA</td>\n",
       "      <td>Chadds Ford, PA</td>\n",
       "      <td>1 to 50 employees</td>\n",
       "      <td>-1</td>\n",
       "      <td>Company - Private</td>\n",
       "      <td>Staffing &amp; Outsourcing</td>\n",
       "      <td>Business Services</td>\n",
       "      <td>$5 to $10 million (USD)</td>\n",
       "      <td>-1</td>\n",
       "    </tr>\n",
       "    <tr>\n",
       "      <th>954</th>\n",
       "      <td>954</td>\n",
       "      <td>Data Engineer</td>\n",
       "      <td>-1</td>\n",
       "      <td>Loading...\\n\\nTitle: Data Engineer\\n\\nLocation...</td>\n",
       "      <td>4.8</td>\n",
       "      <td>IGNW\\n4.8</td>\n",
       "      <td>Austin, TX</td>\n",
       "      <td>Portland, OR</td>\n",
       "      <td>201 to 500 employees</td>\n",
       "      <td>2015</td>\n",
       "      <td>Company - Private</td>\n",
       "      <td>IT Services</td>\n",
       "      <td>Information Technology</td>\n",
       "      <td>$25 to $50 million (USD)</td>\n",
       "      <td>Slalom</td>\n",
       "    </tr>\n",
       "    <tr>\n",
       "      <th>955</th>\n",
       "      <td>955</td>\n",
       "      <td>Research Scientist – Security and Privacy</td>\n",
       "      <td>$61K-$126K (Glassdoor est.)</td>\n",
       "      <td>Returning Candidate? Log back in to the Career...</td>\n",
       "      <td>3.6</td>\n",
       "      <td>Riverside Research Institute\\n3.6</td>\n",
       "      <td>Beavercreek, OH</td>\n",
       "      <td>Arlington, VA</td>\n",
       "      <td>501 to 1000 employees</td>\n",
       "      <td>1967</td>\n",
       "      <td>Nonprofit Organization</td>\n",
       "      <td>Federal Agencies</td>\n",
       "      <td>Government</td>\n",
       "      <td>$50 to $100 million (USD)</td>\n",
       "      <td>-1</td>\n",
       "    </tr>\n",
       "  </tbody>\n",
       "</table>\n",
       "<p>956 rows × 15 columns</p>\n",
       "</div>"
      ],
      "text/plain": [
       "     Unnamed: 0                                          Job Title  \\\n",
       "0             0                                     Data Scientist   \n",
       "1             1                          Healthcare Data Scientist   \n",
       "2             2                                     Data Scientist   \n",
       "3             3                                     Data Scientist   \n",
       "4             4                                     Data Scientist   \n",
       "..          ...                                                ...   \n",
       "951         951                               Senior Data Engineer   \n",
       "952         952  Project Scientist - Auton Lab, Robotics Institute   \n",
       "953         953                               Data Science Manager   \n",
       "954         954                                      Data Engineer   \n",
       "955         955          Research Scientist – Security and Privacy   \n",
       "\n",
       "                 Salary Estimate  \\\n",
       "0     $53K-$91K (Glassdoor est.)   \n",
       "1    $63K-$112K (Glassdoor est.)   \n",
       "2     $80K-$90K (Glassdoor est.)   \n",
       "3     $56K-$97K (Glassdoor est.)   \n",
       "4    $86K-$143K (Glassdoor est.)   \n",
       "..                           ...   \n",
       "951  $72K-$133K (Glassdoor est.)   \n",
       "952   $56K-$91K (Glassdoor est.)   \n",
       "953  $95K-$160K (Glassdoor est.)   \n",
       "954                           -1   \n",
       "955  $61K-$126K (Glassdoor est.)   \n",
       "\n",
       "                                       Job Description  Rating  \\\n",
       "0    Data Scientist\\nLocation: Albuquerque, NM\\nEdu...     3.8   \n",
       "1    What You Will Do:\\n\\nI. General Summary\\n\\nThe...     3.4   \n",
       "2    KnowBe4, Inc. is a high growth information sec...     4.8   \n",
       "3    *Organization and Job ID**\\nJob ID: 310709\\n\\n...     3.8   \n",
       "4    Data Scientist\\nAffinity Solutions / Marketing...     2.9   \n",
       "..                                                 ...     ...   \n",
       "951  THE CHALLENGE\\nEventbrite has a world-class da...     4.4   \n",
       "952  The Auton Lab at Carnegie Mellon University is...     2.6   \n",
       "953  Data Science ManagerResponsibilities:\\n\\nOvers...     3.2   \n",
       "954  Loading...\\n\\nTitle: Data Engineer\\n\\nLocation...     4.8   \n",
       "955  Returning Candidate? Log back in to the Career...     3.6   \n",
       "\n",
       "                                   Company Name         Location  \\\n",
       "0                        Tecolote Research\\n3.8  Albuquerque, NM   \n",
       "1    University of Maryland Medical System\\n3.4    Linthicum, MD   \n",
       "2                                  KnowBe4\\n4.8   Clearwater, FL   \n",
       "3                                     PNNL\\n3.8     Richland, WA   \n",
       "4                       Affinity Solutions\\n2.9     New York, NY   \n",
       "..                                          ...              ...   \n",
       "951                             Eventbrite\\n4.4    Nashville, TN   \n",
       "952         Software Engineering Institute\\n2.6   Pittsburgh, PA   \n",
       "953                           Numeric, LLC\\n3.2    Allentown, PA   \n",
       "954                                   IGNW\\n4.8       Austin, TX   \n",
       "955           Riverside Research Institute\\n3.6  Beavercreek, OH   \n",
       "\n",
       "          Headquarters                    Size  Founded  \\\n",
       "0           Goleta, CA   501 to 1000 employees     1973   \n",
       "1        Baltimore, MD        10000+ employees     1984   \n",
       "2       Clearwater, FL   501 to 1000 employees     2010   \n",
       "3         Richland, WA  1001 to 5000 employees     1965   \n",
       "4         New York, NY     51 to 200 employees     1998   \n",
       "..                 ...                     ...      ...   \n",
       "951  San Francisco, CA  1001 to 5000 employees     2006   \n",
       "952     Pittsburgh, PA   501 to 1000 employees     1984   \n",
       "953    Chadds Ford, PA       1 to 50 employees       -1   \n",
       "954       Portland, OR    201 to 500 employees     2015   \n",
       "955      Arlington, VA   501 to 1000 employees     1967   \n",
       "\n",
       "          Type of ownership                          Industry  \\\n",
       "0         Company - Private               Aerospace & Defense   \n",
       "1        Other Organization  Health Care Services & Hospitals   \n",
       "2         Company - Private                 Security Services   \n",
       "3                Government                            Energy   \n",
       "4         Company - Private           Advertising & Marketing   \n",
       "..                      ...                               ...   \n",
       "951        Company - Public                          Internet   \n",
       "952    College / University           Colleges & Universities   \n",
       "953       Company - Private            Staffing & Outsourcing   \n",
       "954       Company - Private                       IT Services   \n",
       "955  Nonprofit Organization                  Federal Agencies   \n",
       "\n",
       "                           Sector                           Revenue  \\\n",
       "0             Aerospace & Defense         $50 to $100 million (USD)   \n",
       "1                     Health Care            $2 to $5 billion (USD)   \n",
       "2               Business Services        $100 to $500 million (USD)   \n",
       "3    Oil, Gas, Energy & Utilities  $500 million to $1 billion (USD)   \n",
       "4               Business Services          Unknown / Non-Applicable   \n",
       "..                            ...                               ...   \n",
       "951        Information Technology        $100 to $500 million (USD)   \n",
       "952                     Education          Unknown / Non-Applicable   \n",
       "953             Business Services           $5 to $10 million (USD)   \n",
       "954        Information Technology          $25 to $50 million (USD)   \n",
       "955                    Government         $50 to $100 million (USD)   \n",
       "\n",
       "                                           Competitors  \n",
       "0                                                   -1  \n",
       "1                                                   -1  \n",
       "2                                                   -1  \n",
       "3    Oak Ridge National Laboratory, National Renewa...  \n",
       "4                 Commerce Signals, Cardlytics, Yodlee  \n",
       "..                                                 ...  \n",
       "951                    See Tickets, TicketWeb, Vendini  \n",
       "952                                                 -1  \n",
       "953                                                 -1  \n",
       "954                                             Slalom  \n",
       "955                                                 -1  \n",
       "\n",
       "[956 rows x 15 columns]"
      ]
     },
     "execution_count": 323,
     "metadata": {},
     "output_type": "execute_result"
    }
   ],
   "source": [
    "df = pd.read_csv('glassdoor_jobs.csv')\n",
    "df"
   ]
  },
  {
   "cell_type": "markdown",
   "metadata": {},
   "source": [
    "## Data Cleaning\n",
    "- Renaming Columns\n",
    "- Simplifying Job Title column\n",
    "- Salary parsing\n",
    "- Company name text only\n",
    "- Location parsing - State field only\n",
    "- Age of Company\n",
    "- Job Description parsing"
   ]
  },
  {
   "cell_type": "markdown",
   "metadata": {},
   "source": [
    "### =>  Renaming Columns"
   ]
  },
  {
   "cell_type": "code",
   "execution_count": 324,
   "metadata": {},
   "outputs": [
    {
     "data": {
      "text/plain": [
       "Index(['Unnamed: 0', 'Job Title', 'Salary Estimate', 'Job Description',\n",
       "       'Rating', 'Company Name', 'Location', 'Headquarters', 'Size', 'Founded',\n",
       "       'Type of ownership', 'Industry', 'Sector', 'Revenue', 'Competitors'],\n",
       "      dtype='object')"
      ]
     },
     "execution_count": 324,
     "metadata": {},
     "output_type": "execute_result"
    }
   ],
   "source": [
    "df.columns"
   ]
  },
  {
   "cell_type": "code",
   "execution_count": 325,
   "metadata": {},
   "outputs": [
    {
     "data": {
      "text/plain": [
       "Index(['Job Title', 'Salary Estimate', 'Job Description', 'Rating',\n",
       "       'Company Name', 'Location', 'Headquarters', 'Size', 'Founded',\n",
       "       'Type of ownership', 'Industry', 'Sector', 'Revenue', 'Competitors'],\n",
       "      dtype='object')"
      ]
     },
     "execution_count": 325,
     "metadata": {},
     "output_type": "execute_result"
    }
   ],
   "source": [
    "df.drop(['Unnamed: 0'],axis=1,inplace=True)\n",
    "df.columns"
   ]
  },
  {
   "cell_type": "code",
   "execution_count": 326,
   "metadata": {},
   "outputs": [
    {
     "data": {
      "text/plain": [
       "Index(['Job_Title', 'Salary_Estimate', 'Job_Description', 'Rating',\n",
       "       'Company_Name', 'Location', 'Headquarter', 'Size', 'Founded',\n",
       "       'Type_of_ownership', 'Industry', 'Sector', 'Revenue', 'Competitors'],\n",
       "      dtype='object')"
      ]
     },
     "execution_count": 326,
     "metadata": {},
     "output_type": "execute_result"
    }
   ],
   "source": [
    "df.rename(columns={ 'Job Title' : 'Job_Title',\n",
    "                    'Salary Estimate':'Salary_Estimate', \n",
    "                    'Job Description': 'Job_Description',\n",
    "                    'Company Name': 'Company_Name',\n",
    "                    'Headquarters': 'Headquarter',\n",
    "                    'Type of ownership': 'Type_of_ownership'}, inplace=True)\n",
    "df.columns"
   ]
  },
  {
   "cell_type": "markdown",
   "metadata": {},
   "source": [
    "### => Cleaning Columns\n",
    "\n",
    "#### => Simplifying Job Title"
   ]
  },
  {
   "cell_type": "code",
   "execution_count": 327,
   "metadata": {},
   "outputs": [
    {
     "data": {
      "text/plain": [
       "array(['Data Scientist', 'Healthcare Data Scientist',\n",
       "       'Research Scientist', 'Staff Data Scientist - Technology',\n",
       "       'Data Analyst', 'Data Engineer I', 'Scientist I/II, Biology',\n",
       "       'Customer Data Scientist',\n",
       "       'Data Scientist - Health Data Analytics',\n",
       "       'Senior Data Scientist / Machine Learning',\n",
       "       'Data Scientist - Quantitative', 'Digital Health Data Scientist',\n",
       "       'Associate Data Analyst', 'Clinical Data Scientist',\n",
       "       'Data Scientist / Machine Learning Expert', 'Web Data Analyst',\n",
       "       'Senior Data Scientist', 'Data Engineer',\n",
       "       'Data Scientist - Algorithms & Inference', 'Scientist',\n",
       "       'Data Science Analyst', 'Lead Data Scientist',\n",
       "       'Spectral Scientist/Engineer',\n",
       "       'College Hire - Data Scientist - Open to December 2019 Graduates',\n",
       "       'Data Scientist, Office of Data Science',\n",
       "       'Business Intelligence Analyst', 'Senior Risk Data Scientist',\n",
       "       'Data Scientist in Artificial Intelligence Early Career',\n",
       "       'Data Scientist - Research', 'R&D Data Analysis Scientist',\n",
       "       'Analytics Consultant', 'Director, Data Science',\n",
       "       'Data Scientist SR', 'R&D Sr Data Scientist',\n",
       "       'Customer Data Scientist/Sales Engineer (Bay',\n",
       "       'Jr. Business Data Analyst', 'Data Management Specialist',\n",
       "       'Machine Learning Engineer', 'E-Commerce Data Analyst',\n",
       "       'Data Engineer Intern', 'Sr. Scientist II',\n",
       "       'Insurance Data Scientist', 'Data Scientist Analyst',\n",
       "       'Data Modeler', 'Data Analyst / Scientist',\n",
       "       'Scientist, Stem Cells and Genomics',\n",
       "       'Data Scientist, Rice University', 'Financial Data Analyst',\n",
       "       'Postdoc Scientist - T cell engineering', 'Senior Data Analyst',\n",
       "       'Ag Data Scientist', 'Principal Data Scientist',\n",
       "       'Data Platform Engineer', 'Chief Data Scientist',\n",
       "       'Data Scientist II', 'Senior Data Engineer', 'Project Scientist',\n",
       "       'Senior Data Scientist - AI Forecasting, Finance team',\n",
       "       'Data Analytics Manager',\n",
       "       'Senior Machine Learning (ML) Engineer / Data Scientist - Cyber Security Analytics',\n",
       "       'Weapons and Sensors Engineer/Scientist – Entry Level',\n",
       "       'Associate Scientist', 'Scientist 2, QC Viral Vector',\n",
       "       'Data Scientist/ML Engineer', 'Senior Scientist - Bioanalytical',\n",
       "       'Sr. Data Scientist', 'Scientist, Biomarker Science',\n",
       "       'Data Engineer 4 - Contract', 'Data Analyst - Asset Management',\n",
       "       'Senior Research Scientist - Embedded System Development for DevOps',\n",
       "       'Data Scientist - Bioinformatics',\n",
       "       'Customer Data Scientist/Sales Engineer', 'Data Analyst II',\n",
       "       'MongoDB Data Engineer II', 'Senior Data Scientist Statistics',\n",
       "       'Senior Analytical Scientist',\n",
       "       'Senior Spark Engineer (Data Science)',\n",
       "       'BI & Platform Analytics Manager',\n",
       "       'Sr. Data Scientist - Analytics, Personalized Healthcare (PHC)',\n",
       "       'Data Scientist (Active TS SCI with Polygraph)',\n",
       "       'Pricipal Scientist Molecular and cellular biologist',\n",
       "       'Data Scientist (Actuary, FSA or ASA)', 'Staff Data Scientist',\n",
       "       'Front-End, Back-End, Fullstack Developers & Data Scientist / Researchers - Cleared OR CLEARABLE (Up to 25% Profit Sharing Benefit!)',\n",
       "       'Data Engineer 5 - Contract (Remote)',\n",
       "       'Senior Scientist - Neuroscience',\n",
       "       'Senior Director Biometrics and Clinical Data Management',\n",
       "       'Medical Lab Scientist', 'Risk and Analytics IT, Data Scientist',\n",
       "       'Scientist, Analytical Development', 'Analytics Manager',\n",
       "       'Digital Marketing & ECommerce Data Analyst',\n",
       "       'Sr. Scientist - Digital & Image Analysis/Computational Pathology',\n",
       "       'Principal Scientist - Immunologist',\n",
       "       'Principal Data Scientist with over 10 years experience',\n",
       "       'MED TECH/LAB SCIENTIST - LABORATORY',\n",
       "       'Sr. Scientist, Quantitative Translational Sciences',\n",
       "       'Sr. Data Scientist II', 'Excel / VBA / SQL Data Analyst',\n",
       "       'Machine Learning Research Scientist', 'VP, Data Science',\n",
       "       'Radar Data Analyst', 'Quality Control Scientist',\n",
       "       'AWS Data Engineer', 'PL Actuarial-Lead Data Scientist',\n",
       "       'Deep Learning/Computer Vision Scientist', 'PV Scientist',\n",
       "       'Senior Data & Machine Learning Scientist',\n",
       "       'Principal Data Scientist (Computational Chemistry)',\n",
       "       'Data Systems Specialist 2',\n",
       "       'Principal Scientist, Chemistry & Immunology',\n",
       "       'Software Engineer - Data Visualization',\n",
       "       'Scientist/Senior Scientist, Autoimmune',\n",
       "       'Data Engineer 4 - Contract (Remote)',\n",
       "       'UX Data Scientist (Python)', 'Staff Machine Learning Engineer',\n",
       "       'Principal Scientist, Hematology', 'Lead Data Engineer',\n",
       "       'Pharmacovigilance Scientist (Senior Pharmacovigilance)',\n",
       "       'Data Science Manager', 'Marketing Data Analyst',\n",
       "       'Medical Laboratory Scientist', 'R&D Specialist/ Food Scientist',\n",
       "       'Senior Research Scientist-Machine Learning',\n",
       "       'Data Engineer with R', 'Analytics Manager - Data Mart',\n",
       "       'Sr. Data Engineer - Contract-to-Hire (Java)',\n",
       "       'MED TECH/LAB SCIENTIST- SOUTH COASTAL LAB',\n",
       "       'Food Scientist - Developer', 'Data Engineer 5 - Contract',\n",
       "       'Staff Scientist-Downstream Process Development',\n",
       "       'Sr. Data Engineer',\n",
       "       'Senior Research Statistician- Data Scientist',\n",
       "       'Business Data Analyst, SQL',\n",
       "       'Medical Technologist / Clinical Laboratory Scientist',\n",
       "       'ATL - Data & Analytics (DA)',\n",
       "       'Associate Data Scientist/Computer Scientist',\n",
       "       'Business Intelligence Analyst / Developer',\n",
       "       'System and Data Analyst', 'Data Science Intern',\n",
       "       'Environmental Scientist', 'Environmental Data Specialist',\n",
       "       'Data & Analytics Consultant (NYC)',\n",
       "       'Big Data Engineer - Chicago - Future Opportunity',\n",
       "       'Real World Evidence (RWE) Scientist', 'Survey Data Analyst',\n",
       "       'Data Scientist - Consultant - National',\n",
       "       'Lead Health Data Analyst - Front End', 'Junior Data Analyst',\n",
       "       'SQL Data Engineer',\n",
       "       'Sr. Data Scientist, Cyber-Security LT Contract',\n",
       "       'MSP - Data & Analytics (DA)', 'Insurance Financial Data Analyst',\n",
       "       'Data Engineer I - Azure', 'Information Security Data Analyst',\n",
       "       'Data Scientist, Senior', 'CONSULTANT– DATA ANALYTICS GROUP',\n",
       "       'Data Analyst Level III',\n",
       "       'Data Engineer, Data Engineering and Artifical Intelligence',\n",
       "       'Staff Scientist',\n",
       "       'Associate Scientist/Scientist, Process Analytical Technology - Small Molecule Analytical Chemistry',\n",
       "       'Sr. Data Analyst', 'Program/Data Analyst',\n",
       "       'Senior Data Scientist: Causal & Predictive analytics AI Innovation Lab',\n",
       "       'Health Data Analyst/Developer',\n",
       "       'Principal Data Engineer, Data Platform & Insights',\n",
       "       'RESEARCH SCIENTIST - BIOLOGICAL SAFETY', 'Data Operations Lead',\n",
       "       'Big Data Engineer', 'Clinical Data Analyst',\n",
       "       'Computational Chemist/Data Scientist',\n",
       "       'Product Engineer – Data Science', 'Market Data Analyst',\n",
       "       'Staff Data Engineer', 'Associate Data Engineer',\n",
       "       'Scientist – Cancer Drug Discovery', 'Staff BI and Data Engineer',\n",
       "       'Director - Data, Privacy and AI Governance',\n",
       "       'Scientist Manufacturing - Kentucky BioProcessing',\n",
       "       'Data Analytics Project Manager',\n",
       "       'Consultant - Analytics Consulting',\n",
       "       'Senior Scientist (Neuroscience)',\n",
       "       'Machine Learning Engineer - Regulatory',\n",
       "       'Scientist, Bacteriology',\n",
       "       'Associate Director, Platform and DevOps- Data Engineering and Aritifical Intelligence',\n",
       "       'Clinical Laboratory Scientist', 'Chief Data Officer',\n",
       "       'Head Data Scientist – NLP lead, Novartis AI Innovation Lab',\n",
       "       'Senior Data Scientist - R&D Oncology',\n",
       "       'Director II, Data Science - GRM Actuarial',\n",
       "       'Clinical Data Manager', 'Scientist, Molecular/Cellular Biologist',\n",
       "       'Scientist - Analytical Services',\n",
       "       'Associate Data Analyst- Graduate Development Program',\n",
       "       'Head Data Scientist – Image Analytics lead, Novartis AI Innovation Lab',\n",
       "       'Senior Insurance Data Scientist',\n",
       "       'Senior Data Science Systems Engineer',\n",
       "       'ENVIRONMENTAL ENGINEER/SCIENTIST',\n",
       "       'Scientist, Product Development',\n",
       "       'Senior Scientist - Regulatory Submissions',\n",
       "       'Scientist - Biomarker and Flow Cytometry',\n",
       "       'Revenue Analytics Manager',\n",
       "       'Associate Scientist, LC/MS Biologics',\n",
       "       'Sr. Scientist Method Development', 'IT - Data Engineer II',\n",
       "       'Research Scientist, Immunology - Cancer Biology',\n",
       "       'Project Scientist - Auton Lab, Robotics Institute',\n",
       "       'Staff Machine Learning Scientist, AI Foundation',\n",
       "       'Sr. Enterprise Account Exec- Data Science / ML - NYC',\n",
       "       'Enterprise Architect, Data', 'Advanced Analytics Manager',\n",
       "       'Senior Manager, Epidemiologic Data Scientist',\n",
       "       'Corporate Risk Data Analyst (SQL Based) - Milwaukee or',\n",
       "       'Senior Imagery Scientist - SAR TO 11 #78 (TS/SCI)',\n",
       "       'Marketing Data Analyst, May 2020 Undergrad',\n",
       "       'Data Modeler - Data Solutions Engineer',\n",
       "       'Associate Environmental Scientist - Wildlife Biologist',\n",
       "       'Associate, Data Science, Internal Audit',\n",
       "       'Sr Data Engineer (Sr BI Developer)',\n",
       "       'Senior LiDAR Data Scientist', 'Salesforce Analytics Consultant',\n",
       "       'Technology-Minded, Data Professional Opportunities',\n",
       "       'Managing Data Scientist/ML Engineer',\n",
       "       'Scientist, Pharmacometrics', 'Staff Scientist- Upstream PD',\n",
       "       'Scientist Manufacturing Pharma - Kentucky BioProcessing',\n",
       "       'Senior Clinical Lab Scientist, Clinical Lab Svcs - FT/Nights (8hr)',\n",
       "       'Lead Big Data Engineer',\n",
       "       'Product Engineer – Spatial Data Science and Statistical Analysis',\n",
       "       'Sr Software Engineer (Data Scientist)',\n",
       "       'Sr. Data Engineer (ETL Developer)', 'Sr. Microsoft Data Engineer',\n",
       "       'Senior Data Scientist Artificial Intelligence',\n",
       "       'Scientist, Upstream Process Development (Bioreactors)',\n",
       "       'Diversity and Inclusion Data Analyst',\n",
       "       'Lab Head, Principle Scientist, Dupixent/Type 2 Inflammation & Fibrosis - Cambridge, MA',\n",
       "       'Analytics - Business Assurance Data Analyst',\n",
       "       'Associate Director/Director, Safety Scientist',\n",
       "       'Senior Scientist, Cell Pharmacology/Assay Development',\n",
       "       'Data Analyst Senior', 'Lead Data Engineer (Python)',\n",
       "       'Senior Data Scientist 4 Artificial Intelligence',\n",
       "       'Medical Lab Scientist - MLT',\n",
       "       'Senior Operations Data Analyst, Call Center Operations',\n",
       "       'Director II, Data Science - GRS Predictive Analytics',\n",
       "       'RESEARCH COMPUTER SCIENTIST - RESEARCH ENGINEER - SR. COMPUTER SCIENTIST - SOFTWARE DEVELOPMENT',\n",
       "       'Geospatial Software Developer and Data Scientist',\n",
       "       'Chief Scientist - Emerging Technology Center',\n",
       "       'Senior Scientist - Toxicologist - Product Integrity (Stewardship)',\n",
       "       'Senior Scientist Protein/Oligonucleotides',\n",
       "       'Systems Engineer II - Data Analyst',\n",
       "       'Senior Research Analytical Scientist-Non-Targeted Analysis',\n",
       "       'Director Data Science', 'Sr Data Analyst - IT',\n",
       "       'Senior Scientist, Logic Gated CAR T Cell Therapy',\n",
       "       'Associate Machine Learning Engineer / Data Scientist May 2020 Undergrad',\n",
       "       'Senior Scientist - Biostatistician',\n",
       "       'Principal Machine Learning Scientist', 'Sr. BI Data Engineer III',\n",
       "       'Data Analyst, Performance Partnership', 'Data Scientist Manager',\n",
       "       'Process Development Scientist', 'Sr Data Scientist',\n",
       "       'Software Data Engineer - College',\n",
       "       'Senior Data Scientist - Algorithms',\n",
       "       'Senior Data Scientist Oncology',\n",
       "       'Data Scientist - Alpha Insights',\n",
       "       'Associate Principal Scientist, Pharmacogenomics',\n",
       "       'Data Scientist - Systems Engineering',\n",
       "       'Data Engineer - Consultant (Charlotte Based)',\n",
       "       'Data Analyst 1, full-time contract worker for up to 12 months',\n",
       "       'Scientist, Immuno-Oncology', 'Products Data Analyst II',\n",
       "       'Lead Data Analyst', 'Data Science Engineer - Mobile',\n",
       "       'Scientist - Analytical Development - Pharmaceutics',\n",
       "       'Sr Expert Data Science, Advanced Visual Analytics (Associate level)',\n",
       "       'IT Associate Data Analyst', 'Business Data Analyst',\n",
       "       'Data Scientist - Sales',\n",
       "       'Principal, Data Science - Advanced Analytics',\n",
       "       'Data Science Project Manager',\n",
       "       'Sr Scientist, Immuno-Oncology - Oncology',\n",
       "       'Research Scientist – Security and Privacy',\n",
       "       'Data Analyst 2 (Missionary Department)',\n",
       "       'Supply Chain Data Analyst', 'Data Engineer - ETL',\n",
       "       'Clinical Document Review Scientist',\n",
       "       'Data Modeler (Analytical Systems)',\n",
       "       'Data Scientist in Translational Medicine',\n",
       "       'Product Manager/Data Evangelist',\n",
       "       'Senior Data Scientist – Visualization, Novartis AI Innovation Lab',\n",
       "       'Senior Data Analyst/Scientist', 'Machine Learning Scientist',\n",
       "       'Scientist – Cancer Discovery, Molecular Assay',\n",
       "       'Data Engineering Analyst', 'Manager of Data Science',\n",
       "       'Software Engineer (Data Scientist/Software Engineer) - SISW - MG',\n",
       "       'Associate Research Scientist I (Protein Expression and Production)',\n",
       "       'Head Data Scientist, Predictive Analytics Lead AI Innovation Lab',\n",
       "       'Director, Precision Medicine Clinical Biomarker Scientist',\n",
       "       'Senior Formulations Scientist II', 'Senior Quantitative Analyst',\n",
       "       'Tech Manager, Software Engineering - Data',\n",
       "       'Business Development - Data Supply Partnerships (Veraset)',\n",
       "       'Research Scientist or Senior Research Scientist - Computer Vision',\n",
       "       'Data Analyst Chemist - Quality System Contractor',\n",
       "       'Sr. Manager, Data Science - Marketing Mix Media',\n",
       "       'Sr. Scientist, Toxicology',\n",
       "       'Research Scientist / Principal Research Scientist - Multiphysical Systems',\n",
       "       'Research Scientist, Machine Learning Department',\n",
       "       'Foundational Community Supports Data Analyst',\n",
       "       'Senior Health Data Analyst, Star Ratings',\n",
       "       'Principal Research Scientist/Team Lead, Medicinal Chemistry - Oncology',\n",
       "       'Senior Engineer, Data Management Engineering',\n",
       "       'Quality Control Scientist III- Analytical Development',\n",
       "       'Clinical Scientist, Clinical Development',\n",
       "       'Software Engineer Staff Scientist: Human Language Technologies',\n",
       "       'Manager, Safety Scientist, Medical Safety & Risk Management',\n",
       "       'Assistant Director/Director, Office of Data Science',\n",
       "       'Sr. Data Engineer | Big Data SaaS Pipeline',\n",
       "       'Scientist - CVRM Metabolism - in vivo pharmacology',\n",
       "       'Data Scientist (Warehouse Automation)', 'Jr. Data Scientist',\n",
       "       'Data Architect / Data Modeler', 'Data Scientists',\n",
       "       'Associate Scientist / Sr. Associate Scientist, Antibody Discovery',\n",
       "       'Machine Learning Engineer (NLP)'], dtype=object)"
      ]
     },
     "execution_count": 327,
     "metadata": {},
     "output_type": "execute_result"
    }
   ],
   "source": [
    "# Show values of Job_title\n",
    "df['Job_Title'].unique()"
   ]
  },
  {
   "cell_type": "code",
   "execution_count": 328,
   "metadata": {},
   "outputs": [],
   "source": [
    "def Simplify_title(title):\n",
    "    if 'data scientist' in title.lower():\n",
    "        return 'data scientist'\n",
    "    elif 'data engineer' in title.lower():\n",
    "        return 'data engineer'\n",
    "    elif 'analyst' in title.lower():\n",
    "        return 'analyst'\n",
    "    elif 'machine learning' in title.lower():\n",
    "        return 'machine learning'\n",
    "    elif 'manager' in title.lower():\n",
    "        return 'manager'\n",
    "    elif 'director' in title.lower():\n",
    "        return 'director'\n",
    "    else:\n",
    "        return 'na'\n",
    "\n",
    "def seniority(title):\n",
    "    if 'jr' in title.lower() or 'jr.' in title.lower() or 'junior' in title.lower():\n",
    "        return 'junior'\n",
    "    elif 'sr' in title.lower() or 'sr.' in title.lower() or 'senior' in title.lower():\n",
    "        return 'senior'\n",
    "    elif 'lead' in title.lower(): \n",
    "        return 'lead'\n",
    "    elif 'principal' in title.lower():\n",
    "        return 'principal'\n",
    "    else:\n",
    "        return 'na'"
   ]
  },
  {
   "cell_type": "code",
   "execution_count": 357,
   "metadata": {},
   "outputs": [
    {
     "name": "stderr",
     "output_type": "stream",
     "text": [
      "C:\\Users\\Amr Ahmed\\AppData\\Local\\Temp\\ipykernel_12244\\2852938367.py:1: SettingWithCopyWarning: \n",
      "A value is trying to be set on a copy of a slice from a DataFrame.\n",
      "Try using .loc[row_indexer,col_indexer] = value instead\n",
      "\n",
      "See the caveats in the documentation: https://pandas.pydata.org/pandas-docs/stable/user_guide/indexing.html#returning-a-view-versus-a-copy\n",
      "  df['Job_Title_Simplified'] = df['Job_Title'].apply(Simplify_title)\n"
     ]
    },
    {
     "data": {
      "text/plain": [
       "Job_Title_Simplified\n",
       "data scientist      279\n",
       "na                  184\n",
       "data engineer       119\n",
       "analyst             102\n",
       "manager              22\n",
       "machine learning     22\n",
       "director             14\n",
       "Name: count, dtype: int64"
      ]
     },
     "execution_count": 357,
     "metadata": {},
     "output_type": "execute_result"
    }
   ],
   "source": [
    "df['Job_Title_Simplified'] = df['Job_Title'].apply(Simplify_title)\n",
    "df['Job_Title_Simplified'].value_counts()"
   ]
  },
  {
   "cell_type": "code",
   "execution_count": 355,
   "metadata": {},
   "outputs": [
    {
     "name": "stderr",
     "output_type": "stream",
     "text": [
      "C:\\Users\\Amr Ahmed\\AppData\\Local\\Temp\\ipykernel_12244\\2004239780.py:1: SettingWithCopyWarning: \n",
      "A value is trying to be set on a copy of a slice from a DataFrame.\n",
      "Try using .loc[row_indexer,col_indexer] = value instead\n",
      "\n",
      "See the caveats in the documentation: https://pandas.pydata.org/pandas-docs/stable/user_guide/indexing.html#returning-a-view-versus-a-copy\n",
      "  df['Seniority_Level'] = df['Job_Title'].apply(seniority)\n"
     ]
    },
    {
     "data": {
      "text/plain": [
       "Seniority_Level\n",
       "na           519\n",
       "senior       173\n",
       "principal     25\n",
       "lead          22\n",
       "junior         3\n",
       "Name: count, dtype: int64"
      ]
     },
     "execution_count": 355,
     "metadata": {},
     "output_type": "execute_result"
    }
   ],
   "source": [
    "df['Seniority_Level'] = df['Job_Title'].apply(seniority)\n",
    "df['Seniority_Level'].value_counts()"
   ]
  },
  {
   "cell_type": "markdown",
   "metadata": {},
   "source": [
    "### => Salary Parsing"
   ]
  },
  {
   "cell_type": "code",
   "execution_count": 330,
   "metadata": {},
   "outputs": [
    {
     "data": {
      "text/plain": [
       "(956, 16)"
      ]
     },
     "execution_count": 330,
     "metadata": {},
     "output_type": "execute_result"
    }
   ],
   "source": [
    "df.shape"
   ]
  },
  {
   "cell_type": "code",
   "execution_count": 331,
   "metadata": {},
   "outputs": [
    {
     "data": {
      "text/plain": [
       "(742, 16)"
      ]
     },
     "execution_count": 331,
     "metadata": {},
     "output_type": "execute_result"
    }
   ],
   "source": [
    "df = df[df['Salary_Estimate'] != '-1']\n",
    "df.shape"
   ]
  },
  {
   "cell_type": "code",
   "execution_count": 332,
   "metadata": {},
   "outputs": [
    {
     "data": {
      "text/plain": [
       "'$53K-$91K'"
      ]
     },
     "execution_count": 332,
     "metadata": {},
     "output_type": "execute_result"
    }
   ],
   "source": [
    "df['Salary_Estimate'].loc[0].replace('(Glassdoor est.)', '').replace(' ', '')"
   ]
  },
  {
   "cell_type": "code",
   "execution_count": 333,
   "metadata": {},
   "outputs": [
    {
     "name": "stderr",
     "output_type": "stream",
     "text": [
      "C:\\Users\\Amr Ahmed\\AppData\\Local\\Temp\\ipykernel_12244\\2916667855.py:1: SettingWithCopyWarning: \n",
      "A value is trying to be set on a copy of a slice from a DataFrame.\n",
      "Try using .loc[row_indexer,col_indexer] = value instead\n",
      "\n",
      "See the caveats in the documentation: https://pandas.pydata.org/pandas-docs/stable/user_guide/indexing.html#returning-a-view-versus-a-copy\n",
      "  df['Salary_Estimate'] = df['Salary_Estimate'].apply(lambda x: x.replace('(Glassdoor est.)', '').replace(' ', ''))\n"
     ]
    },
    {
     "data": {
      "text/plain": [
       "0     $53K-$91K\n",
       "1    $63K-$112K\n",
       "2     $80K-$90K\n",
       "3     $56K-$97K\n",
       "4    $86K-$143K\n",
       "Name: Salary_Estimate, dtype: object"
      ]
     },
     "execution_count": 333,
     "metadata": {},
     "output_type": "execute_result"
    }
   ],
   "source": [
    "df['Salary_Estimate'] = df['Salary_Estimate'].apply(lambda x: x.replace('(Glassdoor est.)', '').replace(' ', ''))\n",
    "df['Salary_Estimate'].head()"
   ]
  },
  {
   "cell_type": "code",
   "execution_count": 334,
   "metadata": {},
   "outputs": [
    {
     "data": {
      "text/plain": [
       "'53-91'"
      ]
     },
     "execution_count": 334,
     "metadata": {},
     "output_type": "execute_result"
    }
   ],
   "source": [
    "df['Salary_Estimate'].loc[0].replace('K','').replace('$','')"
   ]
  },
  {
   "cell_type": "code",
   "execution_count": 335,
   "metadata": {},
   "outputs": [
    {
     "name": "stderr",
     "output_type": "stream",
     "text": [
      "C:\\Users\\Amr Ahmed\\AppData\\Local\\Temp\\ipykernel_12244\\688672773.py:1: SettingWithCopyWarning: \n",
      "A value is trying to be set on a copy of a slice from a DataFrame.\n",
      "Try using .loc[row_indexer,col_indexer] = value instead\n",
      "\n",
      "See the caveats in the documentation: https://pandas.pydata.org/pandas-docs/stable/user_guide/indexing.html#returning-a-view-versus-a-copy\n",
      "  df['Salary_Estimate'] = df['Salary_Estimate'].apply(lambda x: x.replace('K','').replace('$',''))\n"
     ]
    },
    {
     "data": {
      "text/plain": [
       "0     53-91\n",
       "1    63-112\n",
       "2     80-90\n",
       "3     56-97\n",
       "4    86-143\n",
       "Name: Salary_Estimate, dtype: object"
      ]
     },
     "execution_count": 335,
     "metadata": {},
     "output_type": "execute_result"
    }
   ],
   "source": [
    "df['Salary_Estimate'] = df['Salary_Estimate'].apply(lambda x: x.replace('K','').replace('$',''))\n",
    "df['Salary_Estimate'].head()"
   ]
  },
  {
   "cell_type": "code",
   "execution_count": 336,
   "metadata": {},
   "outputs": [
    {
     "name": "stderr",
     "output_type": "stream",
     "text": [
      "C:\\Users\\Amr Ahmed\\AppData\\Local\\Temp\\ipykernel_12244\\46289163.py:2: SettingWithCopyWarning: \n",
      "A value is trying to be set on a copy of a slice from a DataFrame.\n",
      "Try using .loc[row_indexer,col_indexer] = value instead\n",
      "\n",
      "See the caveats in the documentation: https://pandas.pydata.org/pandas-docs/stable/user_guide/indexing.html#returning-a-view-versus-a-copy\n",
      "  df['PerHour'] = df['Salary_Estimate'].apply(lambda x: 1 if 'perhour' in x.lower() else 0)\n"
     ]
    },
    {
     "data": {
      "text/plain": [
       "PerHour\n",
       "0    718\n",
       "1     24\n",
       "Name: count, dtype: int64"
      ]
     },
     "execution_count": 336,
     "metadata": {},
     "output_type": "execute_result"
    }
   ],
   "source": [
    "# Find 'PerHour' in Salary_Estimate column\n",
    "df['PerHour'] = df['Salary_Estimate'].apply(lambda x: 1 if 'perhour' in x.lower() else 0)\n",
    "df['PerHour'].value_counts()"
   ]
  },
  {
   "cell_type": "code",
   "execution_count": 337,
   "metadata": {},
   "outputs": [
    {
     "name": "stdout",
     "output_type": "stream",
     "text": [
      "90-110(Employerest.)\n",
      "Yes\n"
     ]
    }
   ],
   "source": [
    "h= df['Salary_Estimate'].loc[492]\n",
    "print(h)\n",
    "\n",
    "if 'employerest' in h.lower():\n",
    "    print('Yes')\n",
    "else:\n",
    "    print('No')"
   ]
  },
  {
   "cell_type": "code",
   "execution_count": 338,
   "metadata": {},
   "outputs": [
    {
     "name": "stderr",
     "output_type": "stream",
     "text": [
      "C:\\Users\\Amr Ahmed\\AppData\\Local\\Temp\\ipykernel_12244\\3394621971.py:2: SettingWithCopyWarning: \n",
      "A value is trying to be set on a copy of a slice from a DataFrame.\n",
      "Try using .loc[row_indexer,col_indexer] = value instead\n",
      "\n",
      "See the caveats in the documentation: https://pandas.pydata.org/pandas-docs/stable/user_guide/indexing.html#returning-a-view-versus-a-copy\n",
      "  df['employer_Provided_Salary'] = df['Salary_Estimate'].apply(lambda x: 1 if 'employerprovidedsalary:' in x.lower() else 0)\n"
     ]
    },
    {
     "data": {
      "text/plain": [
       "employer_Provided_Salary\n",
       "0    725\n",
       "1     17\n",
       "Name: count, dtype: int64"
      ]
     },
     "execution_count": 338,
     "metadata": {},
     "output_type": "execute_result"
    }
   ],
   "source": [
    "# Find 'PerHour' in Salary_Estimate column\n",
    "df['employer_Provided_Salary'] = df['Salary_Estimate'].apply(lambda x: 1 if 'employerprovidedsalary:' in x.lower() else 0)\n",
    "df['employer_Provided_Salary'].value_counts()"
   ]
  },
  {
   "cell_type": "code",
   "execution_count": 339,
   "metadata": {},
   "outputs": [
    {
     "name": "stderr",
     "output_type": "stream",
     "text": [
      "C:\\Users\\Amr Ahmed\\AppData\\Local\\Temp\\ipykernel_12244\\136140127.py:1: SettingWithCopyWarning: \n",
      "A value is trying to be set on a copy of a slice from a DataFrame.\n",
      "Try using .loc[row_indexer,col_indexer] = value instead\n",
      "\n",
      "See the caveats in the documentation: https://pandas.pydata.org/pandas-docs/stable/user_guide/indexing.html#returning-a-view-versus-a-copy\n",
      "  df['Salary_Estimate'] = df['Salary_Estimate'].apply(lambda x: x.lower().replace('perhour', '').replace('employerprovidedsalary:', '').replace('employerest', '').replace('(.)', ''))\n"
     ]
    }
   ],
   "source": [
    "df['Salary_Estimate'] = df['Salary_Estimate'].apply(lambda x: x.lower().replace('perhour', '').replace('employerprovidedsalary:', '').replace('employerest', '').replace('(.)', ''))"
   ]
  },
  {
   "cell_type": "code",
   "execution_count": 340,
   "metadata": {},
   "outputs": [
    {
     "name": "stdout",
     "output_type": "stream",
     "text": [
      "53\n",
      "91\n"
     ]
    }
   ],
   "source": [
    "print(df['Salary_Estimate'].loc[0].split('-')[0])\n",
    "print(df['Salary_Estimate'].loc[0].split('-')[1])"
   ]
  },
  {
   "cell_type": "code",
   "execution_count": 341,
   "metadata": {},
   "outputs": [
    {
     "name": "stderr",
     "output_type": "stream",
     "text": [
      "C:\\Users\\Amr Ahmed\\AppData\\Local\\Temp\\ipykernel_12244\\3084365541.py:1: SettingWithCopyWarning: \n",
      "A value is trying to be set on a copy of a slice from a DataFrame.\n",
      "Try using .loc[row_indexer,col_indexer] = value instead\n",
      "\n",
      "See the caveats in the documentation: https://pandas.pydata.org/pandas-docs/stable/user_guide/indexing.html#returning-a-view-versus-a-copy\n",
      "  df['min_salary'] = df['Salary_Estimate'].apply(lambda x: x.split('-')[0])\n",
      "C:\\Users\\Amr Ahmed\\AppData\\Local\\Temp\\ipykernel_12244\\3084365541.py:2: SettingWithCopyWarning: \n",
      "A value is trying to be set on a copy of a slice from a DataFrame.\n",
      "Try using .loc[row_indexer,col_indexer] = value instead\n",
      "\n",
      "See the caveats in the documentation: https://pandas.pydata.org/pandas-docs/stable/user_guide/indexing.html#returning-a-view-versus-a-copy\n",
      "  df['max_salary'] = df['Salary_Estimate'].apply(lambda x: x.split('-')[1])\n"
     ]
    }
   ],
   "source": [
    "df['min_salary'] = df['Salary_Estimate'].apply(lambda x: x.split('-')[0])\n",
    "df['max_salary'] = df['Salary_Estimate'].apply(lambda x: x.split('-')[1])"
   ]
  },
  {
   "cell_type": "code",
   "execution_count": 342,
   "metadata": {},
   "outputs": [
    {
     "name": "stderr",
     "output_type": "stream",
     "text": [
      "C:\\Users\\Amr Ahmed\\AppData\\Local\\Temp\\ipykernel_12244\\1209323181.py:2: SettingWithCopyWarning: \n",
      "A value is trying to be set on a copy of a slice from a DataFrame.\n",
      "Try using .loc[row_indexer,col_indexer] = value instead\n",
      "\n",
      "See the caveats in the documentation: https://pandas.pydata.org/pandas-docs/stable/user_guide/indexing.html#returning-a-view-versus-a-copy\n",
      "  df['min_salary'] = df['min_salary'].astype(int)\n",
      "C:\\Users\\Amr Ahmed\\AppData\\Local\\Temp\\ipykernel_12244\\1209323181.py:3: SettingWithCopyWarning: \n",
      "A value is trying to be set on a copy of a slice from a DataFrame.\n",
      "Try using .loc[row_indexer,col_indexer] = value instead\n",
      "\n",
      "See the caveats in the documentation: https://pandas.pydata.org/pandas-docs/stable/user_guide/indexing.html#returning-a-view-versus-a-copy\n",
      "  df['max_salary'] = df['max_salary'].astype(int)\n",
      "C:\\Users\\Amr Ahmed\\AppData\\Local\\Temp\\ipykernel_12244\\1209323181.py:4: SettingWithCopyWarning: \n",
      "A value is trying to be set on a copy of a slice from a DataFrame.\n",
      "Try using .loc[row_indexer,col_indexer] = value instead\n",
      "\n",
      "See the caveats in the documentation: https://pandas.pydata.org/pandas-docs/stable/user_guide/indexing.html#returning-a-view-versus-a-copy\n",
      "  df['average_salary'] = (df['min_salary'] + df['max_salary'])/2\n"
     ]
    }
   ],
   "source": [
    "# Change dtype of min_salary and max_salary from str/object to int and calculate average salary\n",
    "df['min_salary'] = df['min_salary'].astype(int)\n",
    "df['max_salary'] = df['max_salary'].astype(int)\n",
    "df['average_salary'] = (df['min_salary'] + df['max_salary'])/2"
   ]
  },
  {
   "cell_type": "markdown",
   "metadata": {},
   "source": [
    "### => Company name text only"
   ]
  },
  {
   "cell_type": "code",
   "execution_count": 343,
   "metadata": {},
   "outputs": [
    {
     "name": "stdout",
     "output_type": "stream",
     "text": [
      "Tecolote Research\n",
      "3.8\n"
     ]
    },
    {
     "data": {
      "text/plain": [
       "'Tecolote Research'"
      ]
     },
     "execution_count": 343,
     "metadata": {},
     "output_type": "execute_result"
    }
   ],
   "source": [
    "print(df['Company_Name'][0])\n",
    "df['Company_Name'][0].split('\\n')[0]"
   ]
  },
  {
   "cell_type": "code",
   "execution_count": 344,
   "metadata": {},
   "outputs": [
    {
     "name": "stderr",
     "output_type": "stream",
     "text": [
      "C:\\Users\\Amr Ahmed\\AppData\\Local\\Temp\\ipykernel_12244\\478979508.py:1: SettingWithCopyWarning: \n",
      "A value is trying to be set on a copy of a slice from a DataFrame.\n",
      "Try using .loc[row_indexer,col_indexer] = value instead\n",
      "\n",
      "See the caveats in the documentation: https://pandas.pydata.org/pandas-docs/stable/user_guide/indexing.html#returning-a-view-versus-a-copy\n",
      "  df['Company_Name'] = df['Company_Name'].str.split('\\n').str[0]\n"
     ]
    }
   ],
   "source": [
    "df['Company_Name'] = df['Company_Name'].str.split('\\n').str[0]"
   ]
  },
  {
   "cell_type": "markdown",
   "metadata": {},
   "source": [
    "### => Location parsing - State field only"
   ]
  },
  {
   "cell_type": "code",
   "execution_count": 345,
   "metadata": {},
   "outputs": [
    {
     "data": {
      "text/plain": [
       "'NM'"
      ]
     },
     "execution_count": 345,
     "metadata": {},
     "output_type": "execute_result"
    }
   ],
   "source": [
    "df['Location'].loc[0].split(',')[1].strip()"
   ]
  },
  {
   "cell_type": "code",
   "execution_count": 346,
   "metadata": {},
   "outputs": [
    {
     "name": "stderr",
     "output_type": "stream",
     "text": [
      "C:\\Users\\Amr Ahmed\\AppData\\Local\\Temp\\ipykernel_12244\\2779744946.py:1: SettingWithCopyWarning: \n",
      "A value is trying to be set on a copy of a slice from a DataFrame.\n",
      "Try using .loc[row_indexer,col_indexer] = value instead\n",
      "\n",
      "See the caveats in the documentation: https://pandas.pydata.org/pandas-docs/stable/user_guide/indexing.html#returning-a-view-versus-a-copy\n",
      "  df['Job_state'] = df['Location'].apply(lambda x: x.split(',')[1].strip())\n"
     ]
    }
   ],
   "source": [
    "df['Job_state'] = df['Location'].apply(lambda x: x.split(',')[1].strip())"
   ]
  },
  {
   "cell_type": "code",
   "execution_count": 347,
   "metadata": {},
   "outputs": [
    {
     "name": "stderr",
     "output_type": "stream",
     "text": [
      "C:\\Users\\Amr Ahmed\\AppData\\Local\\Temp\\ipykernel_12244\\1884352325.py:1: SettingWithCopyWarning: \n",
      "A value is trying to be set on a copy of a slice from a DataFrame.\n",
      "Try using .loc[row_indexer,col_indexer] = value instead\n",
      "\n",
      "See the caveats in the documentation: https://pandas.pydata.org/pandas-docs/stable/user_guide/indexing.html#returning-a-view-versus-a-copy\n",
      "  df['same_state'] = df.apply(lambda x: 1 if x.Location == x.Headquarter else 0, axis = 1)\n"
     ]
    }
   ],
   "source": [
    "df['same_state'] = df.apply(lambda x: 1 if x.Location == x.Headquarter else 0, axis = 1)"
   ]
  },
  {
   "cell_type": "markdown",
   "metadata": {},
   "source": [
    "### => Age of Company"
   ]
  },
  {
   "cell_type": "code",
   "execution_count": 348,
   "metadata": {},
   "outputs": [
    {
     "data": {
      "text/plain": [
       "50"
      ]
     },
     "execution_count": 348,
     "metadata": {},
     "output_type": "execute_result"
    }
   ],
   "source": [
    "sum(df['Founded'] == -1)"
   ]
  },
  {
   "cell_type": "code",
   "execution_count": 349,
   "metadata": {},
   "outputs": [
    {
     "name": "stderr",
     "output_type": "stream",
     "text": [
      "C:\\Users\\Amr Ahmed\\AppData\\Local\\Temp\\ipykernel_12244\\848350293.py:3: SettingWithCopyWarning: \n",
      "A value is trying to be set on a copy of a slice from a DataFrame.\n",
      "Try using .loc[row_indexer,col_indexer] = value instead\n",
      "\n",
      "See the caveats in the documentation: https://pandas.pydata.org/pandas-docs/stable/user_guide/indexing.html#returning-a-view-versus-a-copy\n",
      "  df['age_of_company'] = df['Founded'].apply(lambda x: current_year - x if x != -1 else -1)\n"
     ]
    }
   ],
   "source": [
    "import datetime\n",
    "current_year = datetime.datetime.now().year\n",
    "df['age_of_company'] = df['Founded'].apply(lambda x: current_year - x if x != -1 else -1)"
   ]
  },
  {
   "cell_type": "markdown",
   "metadata": {},
   "source": [
    "### => Job Description parsing"
   ]
  },
  {
   "cell_type": "code",
   "execution_count": 350,
   "metadata": {},
   "outputs": [
    {
     "data": {
      "text/plain": [
       "'Data Scientist\\nLocation: Albuquerque, NM\\nEducation Required: Bachelor’s degree required, preferably in math, engineering, business, or the sciences.\\nSkills Required:\\nBachelor’s Degree in relevant field, e.g., math, data analysis, database, computer science, Artificial Intelligence (AI); three years’ experience credit for Master’s degree; five years’ experience credit for a Ph.D\\nApplicant should be proficient in the use of Power BI, Tableau, Python, MATLAB, Microsoft Word, PowerPoint, Excel, and working knowledge of MS Access, LMS, SAS, data visualization tools, and have a strong algorithmic aptitude\\nExcellent verbal and written communication skills, and quantitative analytical skills are required\\nApplicant must be able to work in a team environment\\nU.S. citizenship and ability to obtain a DoD Secret Clearance required\\nResponsibilities: The applicant will be responsible for formulating analytical solutions to complex data problems; creating data analytic models to improve data metrics; analyzing customer behavior and trends; delivering insights to stakeholders, as well as designing and crafting reports, dashboards, models, and algorithms to make data insights actionable; selecting features, building and optimizing classifiers using machine learning techniques; data mining using state-of-the-art methods, extending organization’s data with third party sources of information when needed; enhancing data collection procedures to include information that is relevant for building analytic systems; processing, cleansing, and verifying the integrity of data used for analysis; doing ad-hoc analysis and presenting results in a clear manner; and creating automated anomaly detection systems and constant tracking of its performance.\\nBenefits:\\nWe offer competitive salaries commensurate with education and experience. We have an excellent benefits package that includes:\\nComprehensive health, dental, life, long and short term disability insurance\\n100% Company funded Retirement Plans\\nGenerous vacation, holiday and sick pay plans\\nTuition assistance\\n\\nBenefits are provided to employees regularly working a minimum of 30 hours per week.\\n\\nTecolote Research is a private, employee-owned corporation where people are our primary resource. Our investments in technology and training give our employees the tools to ensure our clients are provided the solutions they need, and our very high employee retention rate and stable workforce is an added value to our customers. Apply now to connect with a company that invests in you.'"
      ]
     },
     "execution_count": 350,
     "metadata": {},
     "output_type": "execute_result"
    }
   ],
   "source": [
    "df['Job_Description'].loc[0]"
   ]
  },
  {
   "cell_type": "code",
   "execution_count": 351,
   "metadata": {},
   "outputs": [
    {
     "name": "stderr",
     "output_type": "stream",
     "text": [
      "C:\\Users\\Amr Ahmed\\AppData\\Local\\Temp\\ipykernel_12244\\2575173465.py:1: SettingWithCopyWarning: \n",
      "A value is trying to be set on a copy of a slice from a DataFrame.\n",
      "Try using .loc[row_indexer,col_indexer] = value instead\n",
      "\n",
      "See the caveats in the documentation: https://pandas.pydata.org/pandas-docs/stable/user_guide/indexing.html#returning-a-view-versus-a-copy\n",
      "  df['Python'] = df['Job_Description'].apply(lambda x: 1 if 'python' in x.lower() else 0)\n",
      "C:\\Users\\Amr Ahmed\\AppData\\Local\\Temp\\ipykernel_12244\\2575173465.py:2: SettingWithCopyWarning: \n",
      "A value is trying to be set on a copy of a slice from a DataFrame.\n",
      "Try using .loc[row_indexer,col_indexer] = value instead\n",
      "\n",
      "See the caveats in the documentation: https://pandas.pydata.org/pandas-docs/stable/user_guide/indexing.html#returning-a-view-versus-a-copy\n",
      "  df['R-studio'] = df['Job_Description'].apply(lambda x: 1 if 'r studio' in x.lower() or 'r-studio' in x.lower() else 0)\n",
      "C:\\Users\\Amr Ahmed\\AppData\\Local\\Temp\\ipykernel_12244\\2575173465.py:3: SettingWithCopyWarning: \n",
      "A value is trying to be set on a copy of a slice from a DataFrame.\n",
      "Try using .loc[row_indexer,col_indexer] = value instead\n",
      "\n",
      "See the caveats in the documentation: https://pandas.pydata.org/pandas-docs/stable/user_guide/indexing.html#returning-a-view-versus-a-copy\n",
      "  df['spark'] = df['Job_Description'].apply(lambda x: 1 if 'spark' in x.lower() else 0)\n",
      "C:\\Users\\Amr Ahmed\\AppData\\Local\\Temp\\ipykernel_12244\\2575173465.py:4: SettingWithCopyWarning: \n",
      "A value is trying to be set on a copy of a slice from a DataFrame.\n",
      "Try using .loc[row_indexer,col_indexer] = value instead\n",
      "\n",
      "See the caveats in the documentation: https://pandas.pydata.org/pandas-docs/stable/user_guide/indexing.html#returning-a-view-versus-a-copy\n",
      "  df['Excel'] = df['Job_Description'].apply(lambda x: 1 if 'excel' in x.lower() else 0)\n",
      "C:\\Users\\Amr Ahmed\\AppData\\Local\\Temp\\ipykernel_12244\\2575173465.py:5: SettingWithCopyWarning: \n",
      "A value is trying to be set on a copy of a slice from a DataFrame.\n",
      "Try using .loc[row_indexer,col_indexer] = value instead\n",
      "\n",
      "See the caveats in the documentation: https://pandas.pydata.org/pandas-docs/stable/user_guide/indexing.html#returning-a-view-versus-a-copy\n",
      "  df['AWS'] = df['Job_Description'].apply(lambda x: 1 if 'aws' in x.lower() else 0)\n"
     ]
    }
   ],
   "source": [
    "df['Python'] = df['Job_Description'].apply(lambda x: 1 if 'python' in x.lower() else 0)\n",
    "df['R-studio'] = df['Job_Description'].apply(lambda x: 1 if 'r studio' in x.lower() or 'r-studio' in x.lower() else 0)\n",
    "df['spark'] = df['Job_Description'].apply(lambda x: 1 if 'spark' in x.lower() else 0)\n",
    "df['Excel'] = df['Job_Description'].apply(lambda x: 1 if 'excel' in x.lower() else 0)\n",
    "df['AWS'] = df['Job_Description'].apply(lambda x: 1 if 'aws' in x.lower() else 0)"
   ]
  },
  {
   "cell_type": "code",
   "execution_count": 360,
   "metadata": {},
   "outputs": [],
   "source": [
    "df_cleaned = df.to_csv('Data_Science_Salaries_cleaned.csv', index = False)"
   ]
  },
  {
   "cell_type": "code",
   "execution_count": 362,
   "metadata": {},
   "outputs": [
    {
     "data": {
      "text/html": [
       "<div>\n",
       "<style scoped>\n",
       "    .dataframe tbody tr th:only-of-type {\n",
       "        vertical-align: middle;\n",
       "    }\n",
       "\n",
       "    .dataframe tbody tr th {\n",
       "        vertical-align: top;\n",
       "    }\n",
       "\n",
       "    .dataframe thead th {\n",
       "        text-align: right;\n",
       "    }\n",
       "</style>\n",
       "<table border=\"1\" class=\"dataframe\">\n",
       "  <thead>\n",
       "    <tr style=\"text-align: right;\">\n",
       "      <th></th>\n",
       "      <th>Job_Title</th>\n",
       "      <th>Salary_Estimate</th>\n",
       "      <th>Job_Description</th>\n",
       "      <th>Rating</th>\n",
       "      <th>Company_Name</th>\n",
       "      <th>Location</th>\n",
       "      <th>Headquarter</th>\n",
       "      <th>Size</th>\n",
       "      <th>Founded</th>\n",
       "      <th>Type_of_ownership</th>\n",
       "      <th>...</th>\n",
       "      <th>Job_state</th>\n",
       "      <th>same_state</th>\n",
       "      <th>age_of_company</th>\n",
       "      <th>Python</th>\n",
       "      <th>R-studio</th>\n",
       "      <th>spark</th>\n",
       "      <th>Excel</th>\n",
       "      <th>AWS</th>\n",
       "      <th>Seniority_Level</th>\n",
       "      <th>Job_Title_Simplified</th>\n",
       "    </tr>\n",
       "  </thead>\n",
       "  <tbody>\n",
       "    <tr>\n",
       "      <th>0</th>\n",
       "      <td>Data Scientist</td>\n",
       "      <td>53-91</td>\n",
       "      <td>Data Scientist\\nLocation: Albuquerque, NM\\nEdu...</td>\n",
       "      <td>3.8</td>\n",
       "      <td>Tecolote Research</td>\n",
       "      <td>Albuquerque, NM</td>\n",
       "      <td>Goleta, CA</td>\n",
       "      <td>501 to 1000 employees</td>\n",
       "      <td>1973</td>\n",
       "      <td>Company - Private</td>\n",
       "      <td>...</td>\n",
       "      <td>NM</td>\n",
       "      <td>0</td>\n",
       "      <td>50</td>\n",
       "      <td>1</td>\n",
       "      <td>0</td>\n",
       "      <td>0</td>\n",
       "      <td>1</td>\n",
       "      <td>0</td>\n",
       "      <td>na</td>\n",
       "      <td>data scientist</td>\n",
       "    </tr>\n",
       "    <tr>\n",
       "      <th>1</th>\n",
       "      <td>Healthcare Data Scientist</td>\n",
       "      <td>63-112</td>\n",
       "      <td>What You Will Do:\\n\\nI. General Summary\\n\\nThe...</td>\n",
       "      <td>3.4</td>\n",
       "      <td>University of Maryland Medical System</td>\n",
       "      <td>Linthicum, MD</td>\n",
       "      <td>Baltimore, MD</td>\n",
       "      <td>10000+ employees</td>\n",
       "      <td>1984</td>\n",
       "      <td>Other Organization</td>\n",
       "      <td>...</td>\n",
       "      <td>MD</td>\n",
       "      <td>0</td>\n",
       "      <td>39</td>\n",
       "      <td>1</td>\n",
       "      <td>0</td>\n",
       "      <td>0</td>\n",
       "      <td>0</td>\n",
       "      <td>0</td>\n",
       "      <td>na</td>\n",
       "      <td>data scientist</td>\n",
       "    </tr>\n",
       "    <tr>\n",
       "      <th>2</th>\n",
       "      <td>Data Scientist</td>\n",
       "      <td>80-90</td>\n",
       "      <td>KnowBe4, Inc. is a high growth information sec...</td>\n",
       "      <td>4.8</td>\n",
       "      <td>KnowBe4</td>\n",
       "      <td>Clearwater, FL</td>\n",
       "      <td>Clearwater, FL</td>\n",
       "      <td>501 to 1000 employees</td>\n",
       "      <td>2010</td>\n",
       "      <td>Company - Private</td>\n",
       "      <td>...</td>\n",
       "      <td>FL</td>\n",
       "      <td>1</td>\n",
       "      <td>13</td>\n",
       "      <td>1</td>\n",
       "      <td>0</td>\n",
       "      <td>1</td>\n",
       "      <td>1</td>\n",
       "      <td>0</td>\n",
       "      <td>na</td>\n",
       "      <td>data scientist</td>\n",
       "    </tr>\n",
       "    <tr>\n",
       "      <th>3</th>\n",
       "      <td>Data Scientist</td>\n",
       "      <td>56-97</td>\n",
       "      <td>*Organization and Job ID**\\nJob ID: 310709\\n\\n...</td>\n",
       "      <td>3.8</td>\n",
       "      <td>PNNL</td>\n",
       "      <td>Richland, WA</td>\n",
       "      <td>Richland, WA</td>\n",
       "      <td>1001 to 5000 employees</td>\n",
       "      <td>1965</td>\n",
       "      <td>Government</td>\n",
       "      <td>...</td>\n",
       "      <td>WA</td>\n",
       "      <td>1</td>\n",
       "      <td>58</td>\n",
       "      <td>1</td>\n",
       "      <td>0</td>\n",
       "      <td>0</td>\n",
       "      <td>0</td>\n",
       "      <td>0</td>\n",
       "      <td>na</td>\n",
       "      <td>data scientist</td>\n",
       "    </tr>\n",
       "    <tr>\n",
       "      <th>4</th>\n",
       "      <td>Data Scientist</td>\n",
       "      <td>86-143</td>\n",
       "      <td>Data Scientist\\nAffinity Solutions / Marketing...</td>\n",
       "      <td>2.9</td>\n",
       "      <td>Affinity Solutions</td>\n",
       "      <td>New York, NY</td>\n",
       "      <td>New York, NY</td>\n",
       "      <td>51 to 200 employees</td>\n",
       "      <td>1998</td>\n",
       "      <td>Company - Private</td>\n",
       "      <td>...</td>\n",
       "      <td>NY</td>\n",
       "      <td>1</td>\n",
       "      <td>25</td>\n",
       "      <td>1</td>\n",
       "      <td>0</td>\n",
       "      <td>0</td>\n",
       "      <td>1</td>\n",
       "      <td>0</td>\n",
       "      <td>na</td>\n",
       "      <td>data scientist</td>\n",
       "    </tr>\n",
       "    <tr>\n",
       "      <th>...</th>\n",
       "      <td>...</td>\n",
       "      <td>...</td>\n",
       "      <td>...</td>\n",
       "      <td>...</td>\n",
       "      <td>...</td>\n",
       "      <td>...</td>\n",
       "      <td>...</td>\n",
       "      <td>...</td>\n",
       "      <td>...</td>\n",
       "      <td>...</td>\n",
       "      <td>...</td>\n",
       "      <td>...</td>\n",
       "      <td>...</td>\n",
       "      <td>...</td>\n",
       "      <td>...</td>\n",
       "      <td>...</td>\n",
       "      <td>...</td>\n",
       "      <td>...</td>\n",
       "      <td>...</td>\n",
       "      <td>...</td>\n",
       "      <td>...</td>\n",
       "    </tr>\n",
       "    <tr>\n",
       "      <th>737</th>\n",
       "      <td>Sr Scientist, Immuno-Oncology - Oncology</td>\n",
       "      <td>58-111</td>\n",
       "      <td>Site Name: USA - Massachusetts - Cambridge\\nPo...</td>\n",
       "      <td>3.9</td>\n",
       "      <td>GSK</td>\n",
       "      <td>Cambridge, MA</td>\n",
       "      <td>Brentford, United Kingdom</td>\n",
       "      <td>10000+ employees</td>\n",
       "      <td>1830</td>\n",
       "      <td>Company - Public</td>\n",
       "      <td>...</td>\n",
       "      <td>MA</td>\n",
       "      <td>0</td>\n",
       "      <td>193</td>\n",
       "      <td>0</td>\n",
       "      <td>0</td>\n",
       "      <td>0</td>\n",
       "      <td>0</td>\n",
       "      <td>1</td>\n",
       "      <td>senior</td>\n",
       "      <td>na</td>\n",
       "    </tr>\n",
       "    <tr>\n",
       "      <th>738</th>\n",
       "      <td>Senior Data Engineer</td>\n",
       "      <td>72-133</td>\n",
       "      <td>THE CHALLENGE\\nEventbrite has a world-class da...</td>\n",
       "      <td>4.4</td>\n",
       "      <td>Eventbrite</td>\n",
       "      <td>Nashville, TN</td>\n",
       "      <td>San Francisco, CA</td>\n",
       "      <td>1001 to 5000 employees</td>\n",
       "      <td>2006</td>\n",
       "      <td>Company - Public</td>\n",
       "      <td>...</td>\n",
       "      <td>TN</td>\n",
       "      <td>0</td>\n",
       "      <td>17</td>\n",
       "      <td>1</td>\n",
       "      <td>0</td>\n",
       "      <td>1</td>\n",
       "      <td>0</td>\n",
       "      <td>1</td>\n",
       "      <td>senior</td>\n",
       "      <td>data engineer</td>\n",
       "    </tr>\n",
       "    <tr>\n",
       "      <th>739</th>\n",
       "      <td>Project Scientist - Auton Lab, Robotics Institute</td>\n",
       "      <td>56-91</td>\n",
       "      <td>The Auton Lab at Carnegie Mellon University is...</td>\n",
       "      <td>2.6</td>\n",
       "      <td>Software Engineering Institute</td>\n",
       "      <td>Pittsburgh, PA</td>\n",
       "      <td>Pittsburgh, PA</td>\n",
       "      <td>501 to 1000 employees</td>\n",
       "      <td>1984</td>\n",
       "      <td>College / University</td>\n",
       "      <td>...</td>\n",
       "      <td>PA</td>\n",
       "      <td>1</td>\n",
       "      <td>39</td>\n",
       "      <td>0</td>\n",
       "      <td>0</td>\n",
       "      <td>0</td>\n",
       "      <td>1</td>\n",
       "      <td>0</td>\n",
       "      <td>na</td>\n",
       "      <td>na</td>\n",
       "    </tr>\n",
       "    <tr>\n",
       "      <th>740</th>\n",
       "      <td>Data Science Manager</td>\n",
       "      <td>95-160</td>\n",
       "      <td>Data Science ManagerResponsibilities:\\n\\nOvers...</td>\n",
       "      <td>3.2</td>\n",
       "      <td>Numeric, LLC</td>\n",
       "      <td>Allentown, PA</td>\n",
       "      <td>Chadds Ford, PA</td>\n",
       "      <td>1 to 50 employees</td>\n",
       "      <td>-1</td>\n",
       "      <td>Company - Private</td>\n",
       "      <td>...</td>\n",
       "      <td>PA</td>\n",
       "      <td>0</td>\n",
       "      <td>-1</td>\n",
       "      <td>0</td>\n",
       "      <td>0</td>\n",
       "      <td>0</td>\n",
       "      <td>1</td>\n",
       "      <td>0</td>\n",
       "      <td>na</td>\n",
       "      <td>manager</td>\n",
       "    </tr>\n",
       "    <tr>\n",
       "      <th>741</th>\n",
       "      <td>Research Scientist – Security and Privacy</td>\n",
       "      <td>61-126</td>\n",
       "      <td>Returning Candidate? Log back in to the Career...</td>\n",
       "      <td>3.6</td>\n",
       "      <td>Riverside Research Institute</td>\n",
       "      <td>Beavercreek, OH</td>\n",
       "      <td>Arlington, VA</td>\n",
       "      <td>501 to 1000 employees</td>\n",
       "      <td>1967</td>\n",
       "      <td>Nonprofit Organization</td>\n",
       "      <td>...</td>\n",
       "      <td>OH</td>\n",
       "      <td>0</td>\n",
       "      <td>56</td>\n",
       "      <td>1</td>\n",
       "      <td>0</td>\n",
       "      <td>0</td>\n",
       "      <td>0</td>\n",
       "      <td>0</td>\n",
       "      <td>na</td>\n",
       "      <td>na</td>\n",
       "    </tr>\n",
       "  </tbody>\n",
       "</table>\n",
       "<p>742 rows × 31 columns</p>\n",
       "</div>"
      ],
      "text/plain": [
       "                                             Job_Title Salary_Estimate  \\\n",
       "0                                       Data Scientist           53-91   \n",
       "1                            Healthcare Data Scientist          63-112   \n",
       "2                                       Data Scientist           80-90   \n",
       "3                                       Data Scientist           56-97   \n",
       "4                                       Data Scientist          86-143   \n",
       "..                                                 ...             ...   \n",
       "737           Sr Scientist, Immuno-Oncology - Oncology          58-111   \n",
       "738                               Senior Data Engineer          72-133   \n",
       "739  Project Scientist - Auton Lab, Robotics Institute           56-91   \n",
       "740                               Data Science Manager          95-160   \n",
       "741          Research Scientist – Security and Privacy          61-126   \n",
       "\n",
       "                                       Job_Description  Rating  \\\n",
       "0    Data Scientist\\nLocation: Albuquerque, NM\\nEdu...     3.8   \n",
       "1    What You Will Do:\\n\\nI. General Summary\\n\\nThe...     3.4   \n",
       "2    KnowBe4, Inc. is a high growth information sec...     4.8   \n",
       "3    *Organization and Job ID**\\nJob ID: 310709\\n\\n...     3.8   \n",
       "4    Data Scientist\\nAffinity Solutions / Marketing...     2.9   \n",
       "..                                                 ...     ...   \n",
       "737  Site Name: USA - Massachusetts - Cambridge\\nPo...     3.9   \n",
       "738  THE CHALLENGE\\nEventbrite has a world-class da...     4.4   \n",
       "739  The Auton Lab at Carnegie Mellon University is...     2.6   \n",
       "740  Data Science ManagerResponsibilities:\\n\\nOvers...     3.2   \n",
       "741  Returning Candidate? Log back in to the Career...     3.6   \n",
       "\n",
       "                              Company_Name         Location  \\\n",
       "0                        Tecolote Research  Albuquerque, NM   \n",
       "1    University of Maryland Medical System    Linthicum, MD   \n",
       "2                                  KnowBe4   Clearwater, FL   \n",
       "3                                     PNNL     Richland, WA   \n",
       "4                       Affinity Solutions     New York, NY   \n",
       "..                                     ...              ...   \n",
       "737                                    GSK    Cambridge, MA   \n",
       "738                             Eventbrite    Nashville, TN   \n",
       "739         Software Engineering Institute   Pittsburgh, PA   \n",
       "740                           Numeric, LLC    Allentown, PA   \n",
       "741           Riverside Research Institute  Beavercreek, OH   \n",
       "\n",
       "                   Headquarter                    Size  Founded  \\\n",
       "0                   Goleta, CA   501 to 1000 employees     1973   \n",
       "1                Baltimore, MD        10000+ employees     1984   \n",
       "2               Clearwater, FL   501 to 1000 employees     2010   \n",
       "3                 Richland, WA  1001 to 5000 employees     1965   \n",
       "4                 New York, NY     51 to 200 employees     1998   \n",
       "..                         ...                     ...      ...   \n",
       "737  Brentford, United Kingdom        10000+ employees     1830   \n",
       "738          San Francisco, CA  1001 to 5000 employees     2006   \n",
       "739             Pittsburgh, PA   501 to 1000 employees     1984   \n",
       "740            Chadds Ford, PA       1 to 50 employees       -1   \n",
       "741              Arlington, VA   501 to 1000 employees     1967   \n",
       "\n",
       "          Type_of_ownership  ... Job_state same_state age_of_company Python  \\\n",
       "0         Company - Private  ...        NM          0             50      1   \n",
       "1        Other Organization  ...        MD          0             39      1   \n",
       "2         Company - Private  ...        FL          1             13      1   \n",
       "3                Government  ...        WA          1             58      1   \n",
       "4         Company - Private  ...        NY          1             25      1   \n",
       "..                      ...  ...       ...        ...            ...    ...   \n",
       "737        Company - Public  ...        MA          0            193      0   \n",
       "738        Company - Public  ...        TN          0             17      1   \n",
       "739    College / University  ...        PA          1             39      0   \n",
       "740       Company - Private  ...        PA          0             -1      0   \n",
       "741  Nonprofit Organization  ...        OH          0             56      1   \n",
       "\n",
       "    R-studio spark  Excel  AWS  Seniority_Level  Job_Title_Simplified  \n",
       "0          0     0      1    0               na        data scientist  \n",
       "1          0     0      0    0               na        data scientist  \n",
       "2          0     1      1    0               na        data scientist  \n",
       "3          0     0      0    0               na        data scientist  \n",
       "4          0     0      1    0               na        data scientist  \n",
       "..       ...   ...    ...  ...              ...                   ...  \n",
       "737        0     0      0    1           senior                    na  \n",
       "738        0     1      0    1           senior         data engineer  \n",
       "739        0     0      1    0               na                    na  \n",
       "740        0     0      1    0               na               manager  \n",
       "741        0     0      0    0               na                    na  \n",
       "\n",
       "[742 rows x 31 columns]"
      ]
     },
     "execution_count": 362,
     "metadata": {},
     "output_type": "execute_result"
    }
   ],
   "source": [
    "pd.read_csv('Data_Science_Salaries_cleaned.csv')"
   ]
  },
  {
   "cell_type": "markdown",
   "metadata": {},
   "source": [
    "--------------------"
   ]
  },
  {
   "cell_type": "markdown",
   "metadata": {},
   "source": [
    "# END"
   ]
  },
  {
   "cell_type": "markdown",
   "metadata": {},
   "source": []
  }
 ],
 "metadata": {
  "kernelspec": {
   "display_name": "Python 3",
   "language": "python",
   "name": "python3"
  },
  "language_info": {
   "codemirror_mode": {
    "name": "ipython",
    "version": 3
   },
   "file_extension": ".py",
   "mimetype": "text/x-python",
   "name": "python",
   "nbconvert_exporter": "python",
   "pygments_lexer": "ipython3",
   "version": "3.12.0"
  }
 },
 "nbformat": 4,
 "nbformat_minor": 2
}
